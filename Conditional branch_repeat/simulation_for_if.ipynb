{
 "cells": [
  {
   "cell_type": "code",
   "execution_count": 1,
   "metadata": {},
   "outputs": [
    {
     "name": "stdout",
     "output_type": "stream",
     "text": [
      "スマッシュ\n"
     ]
    }
   ],
   "source": [
    "print(\"スマッシュ\")"
   ]
  },
  {
   "cell_type": "code",
   "execution_count": 2,
   "metadata": {},
   "outputs": [
    {
     "name": "stdout",
     "output_type": "stream",
     "text": [
      "スマッシュ\n",
      "スマッシュ\n",
      "スマッシュ\n",
      "スマッシュ\n",
      "スマッシュ\n",
      "スマッシュ\n",
      "スマッシュ\n",
      "スマッシュ\n",
      "スマッシュ\n",
      "スマッシュ\n"
     ]
    }
   ],
   "source": [
    "for count in range(10) :\n",
    "    print(\"スマッシュ\")"
   ]
  },
  {
   "cell_type": "code",
   "execution_count": 8,
   "metadata": {},
   "outputs": [
    {
     "name": "stdout",
     "output_type": "stream",
     "text": [
      "スマッシュ\n",
      "ストローク\n",
      "スマッシュ\n",
      "ストローク\n",
      "スマッシュ\n",
      "ストローク\n",
      "スマッシュ\n",
      "ストローク\n",
      "スマッシュ\n",
      "ストローク\n"
     ]
    }
   ],
   "source": [
    "attack1 = \"スマッシュ\"\n",
    "attack2 = \"ストローク\"\n",
    "for count in range(10):\n",
    "    if count % 2 == 0:\n",
    "        print(attack1)\n",
    "    else:\n",
    "        print(attack2)"
   ]
  },
  {
   "cell_type": "code",
   "execution_count": 9,
   "metadata": {},
   "outputs": [
    {
     "name": "stdout",
     "output_type": "stream",
     "text": [
      "スマッシュ\n",
      "ストローク\n",
      "スマッシュ\n",
      "ストローク\n",
      "スマッシュ\n",
      "ストローク\n",
      "スマッシュ\n",
      "ストローク\n",
      "スマッシュ\n",
      "ストローク\n"
     ]
    }
   ],
   "source": [
    "list = [print(attack1) if i % 2 == 0 else print(attack2) for i in range(10)]"
   ]
  },
  {
   "cell_type": "code",
   "execution_count": 1,
   "metadata": {},
   "outputs": [
    {
     "name": "stdout",
     "output_type": "stream",
     "text": [
      "スマッシュ\n",
      "ストローク\n",
      "スマッシュ\n",
      "ストローク\n",
      "スマッシュ\n",
      "ストローク\n",
      "ボレー\n",
      "ストローク\n",
      "ボレー\n",
      "ストローク\n"
     ]
    }
   ],
   "source": [
    "attack1 = \"ボレー\"\n",
    "attack2 = \"スマッシュ\"\n",
    "attack3 = \"ストローク\"\n",
    "for count in range(10):\n",
    "    if (count >= 6) and (count % 2 == 0):\n",
    "        print(attack1)\n",
    "    elif (count % 2 == 0):\n",
    "        print(attack2)\n",
    "    else:\n",
    "        print(attack3)"
   ]
  },
  {
   "cell_type": "code",
   "execution_count": 2,
   "metadata": {},
   "outputs": [
    {
     "name": "stdout",
     "output_type": "stream",
     "text": [
      "ボレー\n",
      "ストローク\n",
      "ボレー\n",
      "ストローク\n",
      "ボレー\n",
      "ストローク\n",
      "ボレー\n",
      "ストローク\n",
      "ボレー\n",
      "ストローク\n"
     ]
    }
   ],
   "source": [
    "attack1 = \"ボレー\"\n",
    "attack2 = \"スマッシュ\"\n",
    "attack3 = \"ストローク\"\n",
    "for count in range(10):\n",
    "    if(count % 2 == 0):\n",
    "        print(attack1)\n",
    "    elif (6 <= count) and (count % 2 == 0):\n",
    "        print(attack2)\n",
    "    else:\n",
    "        print(attack3)"
   ]
  },
  {
   "cell_type": "code",
   "execution_count": 3,
   "metadata": {},
   "outputs": [
    {
     "name": "stdout",
     "output_type": "stream",
     "text": [
      "ロブ\n",
      "ストローク\n",
      "ストローク\n",
      "ストローク\n",
      "ボレー\n"
     ]
    }
   ],
   "source": [
    "import random\n",
    "\n",
    "attack1 = \"ボレー\"\n",
    "attack2 = \"スマッシュ\"\n",
    "attack3 = \"ロブ\"\n",
    "attack4 = \"ストローク\"\n",
    "for count in range(5):\n",
    "    x = random.randint(1, 10)\n",
    "    if x <= 3:\n",
    "        print(attack1)\n",
    "    elif x >= 4 and x <= 5:\n",
    "        print(attack2)\n",
    "    elif x >= 6 and x <= 7:\n",
    "        print(attack3)\n",
    "    else:\n",
    "        print(attack4)"
   ]
  },
  {
   "cell_type": "code",
   "execution_count": null,
   "metadata": {},
   "outputs": [],
   "source": []
  }
 ],
 "metadata": {
  "kernelspec": {
   "display_name": "Python 3",
   "language": "python",
   "name": "python3"
  },
  "language_info": {
   "codemirror_mode": {
    "name": "ipython",
    "version": 3
   },
   "file_extension": ".py",
   "mimetype": "text/x-python",
   "name": "python",
   "nbconvert_exporter": "python",
   "pygments_lexer": "ipython3",
   "version": "3.7.7"
  }
 },
 "nbformat": 4,
 "nbformat_minor": 4
}
