{
 "cells": [
  {
   "cell_type": "code",
   "execution_count": 3,
   "metadata": {},
   "outputs": [
    {
     "name": "stdout",
     "output_type": "stream",
     "text": [
      "グランドストローク \n",
      " 「バッコーン」\n",
      "グランドストローク \n",
      " 「バッコーン」\n",
      "スマッシュ \n",
      " 「バコンッ」\n",
      "ボレー \n",
      " 「ベキィッ」\n",
      "グランドストローク \n",
      " 「バッコーン」\n"
     ]
    }
   ],
   "source": [
    "import random\n",
    "\n",
    "sound = {\n",
    "    \"グランドストローク\" : \"「バッコーン」\",\n",
    "    \"スマッシュ\" : \"「バコンッ」\",\n",
    "    \"ボレー\" : \"「ベキィッ」\"\n",
    "    }\n",
    "for count in range(5) :\n",
    "    x = random.randint(1, 10)\n",
    "    if x <= 4:\n",
    "        attack = \"グランドストローク\"\n",
    "    elif x >= 5 and x <= 7:\n",
    "        attack = \"ボレー\"\n",
    "    else:\n",
    "        attack = \"スマッシュ\"\n",
    "    print(attack, \"\\n\", sound[attack])"
   ]
  },
  {
   "cell_type": "code",
   "execution_count": 4,
   "metadata": {},
   "outputs": [
    {
     "data": {
      "text/plain": [
       "{'グランドストローク': '「カコーン」', 'スマッシュ': '「バコンッ」', 'ボレー': '「ベキィッ」'}"
      ]
     },
     "execution_count": 4,
     "metadata": {},
     "output_type": "execute_result"
    }
   ],
   "source": [
    "sound[\"グランドストローク\"] = \"「カコーン」\"\n",
    "sound"
   ]
  },
  {
   "cell_type": "code",
   "execution_count": 5,
   "metadata": {},
   "outputs": [
    {
     "data": {
      "text/plain": [
       "{'グランドストローク': '「カコーン」', 'スマッシュ': '「バコンッ」', 'ボレー': '「ベキィッ」', 'ロブ': 'ポコーン'}"
      ]
     },
     "execution_count": 5,
     "metadata": {},
     "output_type": "execute_result"
    }
   ],
   "source": [
    "sound[\"ロブ\"] = \"ポコーン\"\n",
    "sound"
   ]
  },
  {
   "cell_type": "code",
   "execution_count": 6,
   "metadata": {},
   "outputs": [
    {
     "name": "stdout",
     "output_type": "stream",
     "text": [
      "グランドストローク\n",
      "スマッシュ\n",
      "ボレー\n"
     ]
    }
   ],
   "source": [
    "sound = {\n",
    "    \"グランドストローク\" : \"「バッコーン」\",\n",
    "    \"スマッシュ\" : \"「バコンッ」\",\n",
    "    \"ボレー\" : \"「ベキィッ」\"\n",
    "    }\n",
    "for key in sound:\n",
    "    print(key)"
   ]
  },
  {
   "cell_type": "code",
   "execution_count": 7,
   "metadata": {},
   "outputs": [
    {
     "name": "stdout",
     "output_type": "stream",
     "text": [
      "「バッコーン」\n",
      "「バコンッ」\n",
      "「ベキィッ」\n"
     ]
    }
   ],
   "source": [
    "for value in sound.values():\n",
    "    print(value)"
   ]
  },
  {
   "cell_type": "code",
   "execution_count": 8,
   "metadata": {},
   "outputs": [
    {
     "name": "stdout",
     "output_type": "stream",
     "text": [
      "('グランドストローク', '「バッコーン」')\n",
      "('スマッシュ', '「バコンッ」')\n",
      "('ボレー', '「ベキィッ」')\n"
     ]
    }
   ],
   "source": [
    "for item in sound.items():\n",
    "    print(item)"
   ]
  },
  {
   "cell_type": "code",
   "execution_count": 9,
   "metadata": {},
   "outputs": [
    {
     "name": "stdout",
     "output_type": "stream",
     "text": [
      "attack1 :　攻撃-> グランドストローク (擬音) 「バッコーン」\n",
      "attack2 :　攻撃-> スマッシュ (擬音) 「バコンッ」\n",
      "attack3 :　攻撃-> ボレー (擬音) ベキィッ」 \n"
     ]
    }
   ],
   "source": [
    "scene = [\"attack1\", \"attack2\", \"attack3\"]\n",
    "attack = [\"グランドストローク\", \"スマッシュ\", \"ボレー\"]\n",
    "sound = [\"「バッコーン」\", \"「バコンッ」\", \"ベキィッ」 \"]\n",
    "for scene, attack ,sound in zip(scene, attack, sound):\n",
    "    print(scene, \":　攻撃->\", attack, \"(擬音)\",sound)"
   ]
  },
  {
   "cell_type": "code",
   "execution_count": 11,
   "metadata": {},
   "outputs": [
    {
     "data": {
      "text/plain": [
       "[('グランドストローク', '「バッコーン」'), ('スマッシュ', '「バコンッ」'), ('ボレー', '「ベキィッ」')]"
      ]
     },
     "execution_count": 11,
     "metadata": {},
     "output_type": "execute_result"
    }
   ],
   "source": [
    "attack = [\"グランドストローク\", \"スマッシュ\", \"ボレー\"]\n",
    "sound = [\"「バッコーン」\", \"「バコンッ」\", \"「ベキィッ」\"]\n",
    "list(zip(attack,sound))"
   ]
  },
  {
   "cell_type": "code",
   "execution_count": 12,
   "metadata": {},
   "outputs": [
    {
     "data": {
      "text/plain": [
       "{'グランドストローク': '「バッコーン」', 'スマッシュ': '「バコンッ」', 'ボレー': '「べキィッ」'}"
      ]
     },
     "execution_count": 12,
     "metadata": {},
     "output_type": "execute_result"
    }
   ],
   "source": [
    "attack = [\"グランドストローク\", \"スマッシュ\", \"ボレー\"]\n",
    "sound = [\"「バッコーン」\", \"「バコンッ」\", \"「べキィッ」\"]\n",
    "attacks = {i : j for (i, j) in zip(attack, sound)}\n",
    "attacks"
   ]
  },
  {
   "cell_type": "code",
   "execution_count": 14,
   "metadata": {},
   "outputs": [
    {
     "data": {
      "text/plain": [
       "{'「バッコーン」': 'グランドストローク', '「バコンッ」': 'スマッシュ', '「べキィッ」': 'ボレー'}"
      ]
     },
     "execution_count": 14,
     "metadata": {},
     "output_type": "execute_result"
    }
   ],
   "source": [
    "attacks = {j : i for (i, j) in zip(attack, sound)}\n",
    "attacks"
   ]
  },
  {
   "cell_type": "code",
   "execution_count": 15,
   "metadata": {},
   "outputs": [
    {
     "data": {
      "text/plain": [
       "{'1月', '2月', '3月', '4月', '5月'}"
      ]
     },
     "execution_count": 15,
     "metadata": {},
     "output_type": "execute_result"
    }
   ],
   "source": [
    "month = {\"1月\", \"2月\", \"3月\", \"4月\", \"5月\"}\n",
    "month"
   ]
  },
  {
   "cell_type": "code",
   "execution_count": 16,
   "metadata": {},
   "outputs": [
    {
     "data": {
      "text/plain": [
       "{'P', 'h', 'n', 'o', 't', 'y'}"
      ]
     },
     "execution_count": 16,
     "metadata": {},
     "output_type": "execute_result"
    }
   ],
   "source": [
    "set(\"Python\")"
   ]
  },
  {
   "cell_type": "code",
   "execution_count": 17,
   "metadata": {},
   "outputs": [
    {
     "data": {
      "text/plain": [
       "{'App', 'Python'}"
      ]
     },
     "execution_count": 17,
     "metadata": {},
     "output_type": "execute_result"
    }
   ],
   "source": [
    "set([\"Python\", \"App\"])"
   ]
  },
  {
   "cell_type": "code",
   "execution_count": 18,
   "metadata": {},
   "outputs": [
    {
     "data": {
      "text/plain": [
       "{'App', 'Python'}"
      ]
     },
     "execution_count": 18,
     "metadata": {},
     "output_type": "execute_result"
    }
   ],
   "source": [
    "set( (\"Python\", \"App\"))"
   ]
  },
  {
   "cell_type": "code",
   "execution_count": 19,
   "metadata": {},
   "outputs": [
    {
     "data": {
      "text/plain": [
       "{'スマッシュ', 'ボレー'}"
      ]
     },
     "execution_count": 19,
     "metadata": {},
     "output_type": "execute_result"
    }
   ],
   "source": [
    "set( {\"スマッシュ\" : \"「バコンッ」\", \"ボレー\" : \"「ガッコーン」\"})"
   ]
  },
  {
   "cell_type": "code",
   "execution_count": 21,
   "metadata": {},
   "outputs": [
    {
     "data": {
      "text/plain": [
       "{'スマッシュ', 'ボレー', 'ロブ'}"
      ]
     },
     "execution_count": 21,
     "metadata": {},
     "output_type": "execute_result"
    }
   ],
   "source": [
    "data = [\"スマッシュ\", \"ボレー\", \"ロブ\", \"スマッシュ\", \"ボレー\"]\n",
    "\n",
    "data_set = set(data)\n",
    "data_set"
   ]
  },
  {
   "cell_type": "code",
   "execution_count": 22,
   "metadata": {},
   "outputs": [
    {
     "data": {
      "text/plain": [
       "['スマッシュ', 'ボレー', 'ロブ']"
      ]
     },
     "execution_count": 22,
     "metadata": {},
     "output_type": "execute_result"
    }
   ],
   "source": [
    "attacks = list(data_set)\n",
    "attacks"
   ]
  },
  {
   "cell_type": "code",
   "execution_count": 23,
   "metadata": {},
   "outputs": [
    {
     "data": {
      "text/plain": [
       "{'ロブ'}"
      ]
     },
     "execution_count": 23,
     "metadata": {},
     "output_type": "execute_result"
    }
   ],
   "source": [
    "data1 = {\"スマッシュ\", \"ボレー\", \"ロブ\"}\n",
    "data2 = {\"スマッシュ\", \"ボレー\", \"ドロップショット\"}\n",
    "data1- data2"
   ]
  },
  {
   "cell_type": "code",
   "execution_count": 24,
   "metadata": {},
   "outputs": [
    {
     "data": {
      "text/plain": [
       "{'スマッシュ', 'ボレー'}"
      ]
     },
     "execution_count": 24,
     "metadata": {},
     "output_type": "execute_result"
    }
   ],
   "source": [
    "data1 & data2"
   ]
  },
  {
   "cell_type": "code",
   "execution_count": 25,
   "metadata": {},
   "outputs": [
    {
     "data": {
      "text/plain": [
       "{'グランドストローク', 'スマッシュ', 'ドロップショット', 'ボレー', 'ロブ'}"
      ]
     },
     "execution_count": 25,
     "metadata": {},
     "output_type": "execute_result"
    }
   ],
   "source": [
    "data1 = {\"スマッシュ\", \"ボレー\", \"ロブ\"}\n",
    "data2 = {\"スマッシュ\", \"ボレー\", \"ドロップショット\"}\n",
    "data3 = {\"スマッシュ\", \"ボレー\", \"グランドストローク\"}\n",
    "data1.union(data2, data3)"
   ]
  },
  {
   "cell_type": "code",
   "execution_count": 26,
   "metadata": {},
   "outputs": [
    {
     "data": {
      "text/plain": [
       "{'スマッシュ', 'ボレー'}"
      ]
     },
     "execution_count": 26,
     "metadata": {},
     "output_type": "execute_result"
    }
   ],
   "source": [
    "data1.intersection(data2, data3)"
   ]
  },
  {
   "cell_type": "code",
   "execution_count": null,
   "metadata": {},
   "outputs": [],
   "source": []
  }
 ],
 "metadata": {
  "kernelspec": {
   "display_name": "Python 3",
   "language": "python",
   "name": "python3"
  },
  "language_info": {
   "codemirror_mode": {
    "name": "ipython",
    "version": 3
   },
   "file_extension": ".py",
   "mimetype": "text/x-python",
   "name": "python",
   "nbconvert_exporter": "python",
   "pygments_lexer": "ipython3",
   "version": "3.7.7"
  }
 },
 "nbformat": 4,
 "nbformat_minor": 4
}
