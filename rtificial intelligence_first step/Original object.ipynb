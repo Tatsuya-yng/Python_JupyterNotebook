{
 "cells": [
  {
   "cell_type": "code",
   "execution_count": 3,
   "metadata": {},
   "outputs": [],
   "source": [
    "class MyCoach:\n",
    "    '''鬼コーチクラス\n",
    "    '''\n",
    "    def __init__(self, max):\n",
    "        '''初期化メソッド\n",
    "        \n",
    "        self:インスタンスの参照情報\n",
    "        max :繰り返しの回数\n",
    "        '''\n",
    "        self.max = max #インスタンス変数maxをmaxで初期化\n",
    "        self.count = 0 #インスタンス変数countを0で初期化\n",
    "    def teach(self):\n",
    "        '''\n",
    "        熱血指導メソッド\n",
    "        \n",
    "        self:インスタンスの参照情報\n",
    "        '''\n",
    "        if self.count < self.max:\n",
    "            # self.countが　self.max未満の時の処理\n",
    "            print(\"もっと強く!\")\n",
    "        else:\n",
    "            # sefl.countが　self.maxに達したなら以下を実行\n",
    "            print(\"よーしオッケーだ!\")\n",
    "            \n",
    "        # カウンターを1増やす\n",
    "        self.count += 1"
   ]
  },
  {
   "cell_type": "code",
   "execution_count": 5,
   "metadata": {},
   "outputs": [
    {
     "name": "stdout",
     "output_type": "stream",
     "text": [
      "スマッシュ\n",
      "もっと強く!\n",
      "スマッシュ\n",
      "もっと強く!\n",
      "スマッシュ\n",
      "もっと強く!\n",
      "スマッシュ\n",
      "もっと強く!\n",
      "スマッシュ\n",
      "もっと強く!\n",
      "スマッシュ\n",
      "よーしオッケーだ!\n"
     ]
    }
   ],
   "source": [
    "mc = MyCoach(5)\n",
    "for i in range(6):\n",
    "    print(\"スマッシュ\")\n",
    "    mc.teach()"
   ]
  },
  {
   "cell_type": "code",
   "execution_count": 17,
   "metadata": {},
   "outputs": [],
   "source": [
    "class MyCoach2:\n",
    "    '''鬼コーチクラス\n",
    "    '''\n",
    "    count = 0 #カウンター用のクラス変数\n",
    "    max = 5 #上限を設定するクラス変数\n",
    "    \n",
    "    def teach(self):\n",
    "        '''熱血指導メソッド\n",
    "        \n",
    "        self:　インスタンスの参照情報\n",
    "        '''\n",
    "        if self.__class__.count < self.__class__.max:\n",
    "            #　countがmax未満の時の処理\n",
    "            print(\"もっと強く!\")\n",
    "        else:\n",
    "            #　count がmaxに達したら以下を実行せよ\n",
    "            print(\"よーしオッケーだ!\")\n",
    "            \n",
    "        #　カウンターを1増やす\n",
    "        self.__class__.count += 1"
   ]
  },
  {
   "cell_type": "code",
   "execution_count": 7,
   "metadata": {},
   "outputs": [
    {
     "name": "stdout",
     "output_type": "stream",
     "text": [
      "スマッシュ\n",
      "もっと強く\n",
      "スマッシュ\n",
      "もっと強く\n",
      "スマッシュ\n",
      "もっと強く\n",
      "ライジング\n",
      "もっと強く\n",
      "ライジング\n",
      "もっと強く\n",
      "ライジング\n",
      "よーしオッケーだ!\n"
     ]
    }
   ],
   "source": [
    "# 実行ブロック\n",
    "#　1回目のチャレンジ, teach()を3回繰り返す\n",
    "my1 = MyCoach2()\n",
    "for i in range(3):\n",
    "    print(\"スマッシュ\")\n",
    "    my1.teach()\n",
    "    \n",
    "# 2回目のチャレンジ、teach()を3回繰り返す\n",
    "my2 = MyCoach2()\n",
    "for i in range(3):\n",
    "    print(\"ライジング\")\n",
    "    my2.teach()"
   ]
  },
  {
   "cell_type": "code",
   "execution_count": 19,
   "metadata": {
    "scrolled": true
   },
   "outputs": [
    {
     "name": "stdout",
     "output_type": "stream",
     "text": [
      "スマッシュ\n",
      "もっと強く!\n",
      "スマッシュ\n",
      "もっと強く!\n",
      "スマッシュ\n",
      "もっと強く!\n",
      "ライジング\n",
      "もっと強く!\n",
      "ライジング\n",
      "よーしオッケーだ!\n",
      "ライジング\n",
      "よーしオッケーだ!\n",
      "トップスピン\n",
      "もっと強く!\n",
      "トップスピン\n",
      "もっと強く!\n"
     ]
    }
   ],
   "source": [
    "oni1 = MyCoach2()\n",
    "for i in range(3):\n",
    "    print(\"スマッシュ\")\n",
    "    oni1.teach()\n",
    "    \n",
    "oni2 = MyCoach2()\n",
    "for i in range(3):\n",
    "    print(\"ライジング\")\n",
    "    oni2.teach()\n",
    "    \n",
    "MyCoach2.count = 0\n",
    "oni3 = MyCoach2()\n",
    "for i in range(2):\n",
    "    print(\"トップスピン\")\n",
    "    oni3.teach()"
   ]
  },
  {
   "cell_type": "code",
   "execution_count": 20,
   "metadata": {},
   "outputs": [],
   "source": [
    "# teach()をクラスメソッドにする\n",
    "class MyCoach3:\n",
    "    '''鬼コーチクラス\n",
    "    '''\n",
    "    count = 0 #カウンター用のクラス変数\n",
    "    max = 5 #上限を設定するクラス変数\n",
    "    \n",
    "    @classmethod #デコレーターを指定する\n",
    "    def teach(cls): #クラスメソッドの定義\n",
    "        '''\n",
    "        熱血指導メソッド\n",
    "        \n",
    "        cls:MyCoach3 クラスの参照情報\n",
    "        '''\n",
    "        if cls.count < cls.max:\n",
    "            # countがmax未満の時の処理\n",
    "            print(\"もっと強く!\")\n",
    "        else:\n",
    "            #count がmaxに達したら以下を実行\n",
    "            print(\"よーしオッケーだ！\")\n",
    "        cls.count += 1"
   ]
  },
  {
   "cell_type": "code",
   "execution_count": 26,
   "metadata": {},
   "outputs": [
    {
     "name": "stdout",
     "output_type": "stream",
     "text": [
      "スマッシュ\n",
      "よーしオッケーだ！\n",
      "スマッシュ\n",
      "よーしオッケーだ！\n",
      "スマッシュ\n",
      "よーしオッケーだ！\n",
      "ライジング\n",
      "よーしオッケーだ！\n",
      "ライジング\n",
      "よーしオッケーだ！\n",
      "ライジング\n",
      "よーしオッケーだ！\n"
     ]
    }
   ],
   "source": [
    "#　実行のブロック\n",
    "# 1回目のチャレンジ、teach()を3回繰り返す\n",
    "for i in range(3):\n",
    "    print(\"スマッシュ\")\n",
    "    MyCoach3.teach()\n",
    "    \n",
    "#　2回目のチャレンジ、teach()を3回繰り返す\n",
    "for i in range(3):\n",
    "    print(\"ライジング\")\n",
    "    MyCoach3.teach()"
   ]
  },
  {
   "cell_type": "code",
   "execution_count": 51,
   "metadata": {},
   "outputs": [],
   "source": [
    "# 定義済みのクラスにクラス変数とメソッドを追加する\n",
    "class DynamicCoach:\n",
    "    '''鬼コーチクラス\n",
    "    '''\n",
    "    def __init__(self, max):\n",
    "        '''\n",
    "        初期化メソッド\n",
    "        \n",
    "        self：インスタンスの参照情報\n",
    "        max ：繰り返しの回数\n",
    "        '''\n",
    "        self.max = max\n",
    "        self.count = 0\n",
    "\n",
    "    def teach(self):\n",
    "        '''\n",
    "        熱血指導メソッド\n",
    "        \n",
    "        self：インスタンスの参照情報\n",
    "        '''\n",
    "        if self.count < self.max:\n",
    "            print('もっと強く！')\n",
    "        else:\n",
    "            print('よーしオッケーだ！')\n",
    "            \n",
    "        # カウンターを１増やす\n",
    "        self.count += 1\n",
    "\n",
    "# DynamicCoachクラスにクラス変数を追加する\n",
    "DynamicCoach.final_word = '少し休んでいいぞ!' # ----①\n",
    "\n",
    "def counter(self):                           # ----②\n",
    "    '''\n",
    "    残りの回数を表示するメソッド\n",
    "        \n",
    "    self：インスタンスの参照情報\n",
    "    '''\n",
    "    i = (self.max) - (self.count)\n",
    "    if i >= 0:\n",
    "        print('あと', i + 1, '回!')\n",
    "    elif i < 0:\n",
    "        print(self.__class__.final_word)\n",
    "\n",
    "# DynamicCoachクラスにteaching()メソッドを追加する\n",
    "DynamicCoach.counter = counter                # ----③"
   ]
  },
  {
   "cell_type": "code",
   "execution_count": 52,
   "metadata": {},
   "outputs": [
    {
     "name": "stdout",
     "output_type": "stream",
     "text": [
      "スマッシュ\n",
      "もっと強く！\n",
      "あと 5 回!\n",
      "スマッシュ\n",
      "もっと強く！\n",
      "あと 4 回!\n",
      "スマッシュ\n",
      "もっと強く！\n",
      "あと 3 回!\n",
      "スマッシュ\n",
      "もっと強く！\n",
      "あと 2 回!\n",
      "スマッシュ\n",
      "もっと強く！\n",
      "あと 1 回!\n",
      "スマッシュ\n",
      "よーしオッケーだ！\n",
      "少し休んでいいぞ!\n"
     ]
    }
   ],
   "source": [
    "# 実行\n",
    "# 上限を5回に指定してDynamicCoachをインスタンス化\n",
    "dc = DynamicCoach(5)\n",
    "# teach()とcounter()を6回実行する\n",
    "for i in range(6):\n",
    "    print('スマッシュ')\n",
    "    dc.teach()\n",
    "    dc.counter()"
   ]
  },
  {
   "cell_type": "code",
   "execution_count": 53,
   "metadata": {},
   "outputs": [],
   "source": [
    "class DefaultCoach:\n",
    "    '''デフォルト値で初期化される鬼コーチクラス\n",
    "    '''\n",
    "    # パラメーターmaxとcountのデフォルト値を設定\n",
    "    def __init__(self, max = 5, count = 0):\n",
    "        '''初期化メソッド\n",
    "        \n",
    "        self: インスタンスの参照情報\n",
    "        max: 繰り返しの上限を設定する変数\n",
    "        count: カウント用の変数\n",
    "        '''\n",
    "        # 引数が渡されない場合はデフォルト値で変数を初期化\n",
    "        # 引数が渡されたら引数の値で変数を初期化\n",
    "        self.max = max \n",
    "        self.count = count\n",
    "        \n",
    "    def teach(self):\n",
    "        '''熱血指導メソッド\n",
    "        \n",
    "        self :インスタンスの参照情報\n",
    "        '''\n",
    "        if self.count < self.max:\n",
    "            print(\"もっと強く!\")\n",
    "        else:\n",
    "            print(\"よーしオッケーだ!\")\n",
    "            \n",
    "        # カウンターを1増やす\n",
    "        self.count += 1"
   ]
  },
  {
   "cell_type": "code",
   "execution_count": 54,
   "metadata": {},
   "outputs": [
    {
     "name": "stdout",
     "output_type": "stream",
     "text": [
      "スマッシュ\n",
      "もっと強く!\n",
      "スマッシュ\n",
      "もっと強く!\n",
      "スマッシュ\n",
      "もっと強く!\n",
      "スマッシュ\n",
      "もっと強く!\n",
      "スマッシュ\n",
      "よーしオッケーだ!\n"
     ]
    }
   ],
   "source": [
    "#　実行\n",
    "df = DefaultCoach() # DefaultCoachをインスタンス化\n",
    "df.count = 1             # countの初期値を1にする\n",
    "for i in range(5):      # teach()を5回繰り返す\n",
    "    print(\"スマッシュ\")\n",
    "    df.teach()"
   ]
  },
  {
   "cell_type": "code",
   "execution_count": 58,
   "metadata": {},
   "outputs": [],
   "source": [
    "class CapsuleCoach:\n",
    "    '''プロパティを実装した鬼コーチクラス\n",
    "    '''\n",
    "    def __init__(self, max = 5, count = 0):\n",
    "        '''初期化メソッド\n",
    "        \n",
    "        self :インスタンスの参照情報\n",
    "        max :繰り返しの回数\n",
    "        count :countの初期値\n",
    "        '''\n",
    "        self.__max = max\n",
    "        self.__count = count\n",
    "     # __maxのゲッター\n",
    "    def get_max(self):\n",
    "        return self.__max\n",
    "        \n",
    "    # __maxのゲッター\n",
    "    def set_max(self, max):\n",
    "        self.__max = max\n",
    "        \n",
    "    # __countのゲッター\n",
    "    def get_count(self):\n",
    "        return self.__count\n",
    "    \n",
    "    #__countのゲッター\n",
    "    def set_count(self, count):\n",
    "        self.__count = count\n",
    "        \n",
    "    #max プロパティの定義\n",
    "    max = property(get_max, set_max)\n",
    "    # countプロパティの定義\n",
    "    count = property(get_count, set_count)\n",
    "    \n",
    "    def teach(self):\n",
    "        '''熱血指導メソッド \n",
    "        \n",
    "        self :インスタンスの参照情報\n",
    "        '''\n",
    "        if self.count < self.max:\n",
    "            print(\"もっと強く！\")\n",
    "        else:\n",
    "            print(\"よーしオッケーだ!\")\n",
    "            \n",
    "        # カウンターを１増やす\n",
    "        self.count += 1"
   ]
  },
  {
   "cell_type": "code",
   "execution_count": null,
   "metadata": {},
   "outputs": [],
   "source": []
  }
 ],
 "metadata": {
  "kernelspec": {
   "display_name": "Python 3",
   "language": "python",
   "name": "python3"
  },
  "language_info": {
   "codemirror_mode": {
    "name": "ipython",
    "version": 3
   },
   "file_extension": ".py",
   "mimetype": "text/x-python",
   "name": "python",
   "nbconvert_exporter": "python",
   "pygments_lexer": "ipython3",
   "version": "3.7.7"
  }
 },
 "nbformat": 4,
 "nbformat_minor": 4
}
